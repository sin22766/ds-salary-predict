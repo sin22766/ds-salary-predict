{
 "cells": [
  {
   "cell_type": "markdown",
   "id": "37ba763a",
   "metadata": {},
   "source": [
    "# Data Preprocessing\n",
    "\n",
    "After the exploration of the dataset, we will now preprocess the data. This includes:\n",
    "- Removing unnecessary columns\n",
    "- Handling outliers\n",
    "- Encoding categorical variables\n",
    "- Normalizing numerical variables\n",
    "\n",
    "In this notebook, we will try building the preprocessing pipeline before extract to a separate module."
   ]
  },
  {
   "cell_type": "code",
   "execution_count": 1,
   "id": "e002c62f",
   "metadata": {},
   "outputs": [
    {
     "name": "stderr",
     "output_type": "stream",
     "text": [
      "\u001b[32m2025-05-23 00:29:05.659\u001b[0m | \u001b[1mINFO    \u001b[0m | \u001b[36mds_salaries_predict.config\u001b[0m:\u001b[36m<module>\u001b[0m:\u001b[36m11\u001b[0m - \u001b[1mPROJ_ROOT path is: E:\\Projects\\ds-salaries-predict\u001b[0m\n"
     ]
    }
   ],
   "source": [
    "import pandas as pd\n",
    "\n",
    "from ds_salaries_predict.config import RAW_DATA_DIR\n",
    "\n",
    "data = pd.read_csv(RAW_DATA_DIR / \"salaries.csv\")"
   ]
  }
 ],
 "metadata": {
  "kernelspec": {
   "display_name": ".venv",
   "language": "python",
   "name": "python3"
  },
  "language_info": {
   "codemirror_mode": {
    "name": "ipython",
    "version": 3
   },
   "file_extension": ".py",
   "mimetype": "text/x-python",
   "name": "python",
   "nbconvert_exporter": "python",
   "pygments_lexer": "ipython3",
   "version": "3.12.9"
  }
 },
 "nbformat": 4,
 "nbformat_minor": 5
}
