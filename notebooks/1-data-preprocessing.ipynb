{
 "cells": [
  {
   "cell_type": "markdown",
   "id": "37ba763a",
   "metadata": {},
   "source": [
    "# Data Preprocessing\n",
    "\n",
    "After the exploration of the dataset, we will now preprocess the data. This includes:\n",
    "- Removing unnecessary columns\n",
    "- Handling outliers\n",
    "- Encoding categorical variables\n",
    "- Normalizing numerical variables\n",
    "\n",
    "In this notebook, we will try building the preprocessing pipeline before extract to a separate module."
   ]
  },
  {
   "cell_type": "code",
   "execution_count": 1,
   "id": "e002c62f",
   "metadata": {},
   "outputs": [
    {
     "name": "stderr",
     "output_type": "stream",
     "text": [
      "\u001b[32m2025-05-23 22:35:15.286\u001b[0m | \u001b[1mINFO    \u001b[0m | \u001b[36mds_salaries_predict.config\u001b[0m:\u001b[36m<module>\u001b[0m:\u001b[36m11\u001b[0m - \u001b[1mPROJ_ROOT path is: E:\\Projects\\ds-salaries-predict\u001b[0m\n"
     ]
    }
   ],
   "source": [
    "import pandas as pd\n",
    "\n",
    "from ds_salaries_predict.config import RAW_DATA_DIR\n",
    "\n",
    "data = pd.read_csv(RAW_DATA_DIR / \"salaries.csv\")"
   ]
  },
  {
   "cell_type": "code",
   "execution_count": 2,
   "id": "dbcdf599",
   "metadata": {},
   "outputs": [
    {
     "data": {
      "application/vnd.microsoft.datawrangler.viewer.v0+json": {
       "columns": [
        {
         "name": "index",
         "rawType": "int64",
         "type": "integer"
        },
        {
         "name": "work_year",
         "rawType": "int64",
         "type": "integer"
        },
        {
         "name": "experience_level",
         "rawType": "object",
         "type": "string"
        },
        {
         "name": "employment_type",
         "rawType": "object",
         "type": "string"
        },
        {
         "name": "job_title",
         "rawType": "object",
         "type": "string"
        },
        {
         "name": "salary",
         "rawType": "int64",
         "type": "integer"
        },
        {
         "name": "salary_currency",
         "rawType": "object",
         "type": "string"
        },
        {
         "name": "salary_in_usd",
         "rawType": "int64",
         "type": "integer"
        },
        {
         "name": "employee_residence",
         "rawType": "object",
         "type": "string"
        },
        {
         "name": "remote_ratio",
         "rawType": "int64",
         "type": "integer"
        },
        {
         "name": "company_location",
         "rawType": "object",
         "type": "string"
        },
        {
         "name": "company_size",
         "rawType": "object",
         "type": "string"
        }
       ],
       "ref": "28380981-46a0-4c31-9bfb-3ef48459e273",
       "rows": [
        [
         "0",
         "2025",
         "SE",
         "FT",
         "Data Product Owner",
         "170000",
         "USD",
         "170000",
         "US",
         "0",
         "US",
         "M"
        ],
        [
         "1",
         "2025",
         "SE",
         "FT",
         "Data Product Owner",
         "110000",
         "USD",
         "110000",
         "US",
         "0",
         "US",
         "M"
        ],
        [
         "2",
         "2025",
         "SE",
         "FT",
         "Data Product Owner",
         "170000",
         "USD",
         "170000",
         "US",
         "0",
         "US",
         "M"
        ],
        [
         "3",
         "2025",
         "SE",
         "FT",
         "Data Product Owner",
         "110000",
         "USD",
         "110000",
         "US",
         "0",
         "US",
         "M"
        ],
        [
         "4",
         "2025",
         "SE",
         "FT",
         "Engineer",
         "143000",
         "USD",
         "143000",
         "US",
         "0",
         "US",
         "M"
        ],
        [
         "5",
         "2025",
         "SE",
         "FT",
         "Engineer",
         "106000",
         "USD",
         "106000",
         "US",
         "0",
         "US",
         "M"
        ],
        [
         "6",
         "2025",
         "SE",
         "FT",
         "Manager",
         "360200",
         "USD",
         "360200",
         "US",
         "0",
         "US",
         "M"
        ],
        [
         "7",
         "2025",
         "SE",
         "FT",
         "Manager",
         "239700",
         "USD",
         "239700",
         "US",
         "0",
         "US",
         "M"
        ],
        [
         "8",
         "2025",
         "EN",
         "FT",
         "Data Scientist",
         "49363",
         "GBP",
         "62484",
         "GB",
         "0",
         "GB",
         "M"
        ],
        [
         "9",
         "2025",
         "EN",
         "FT",
         "Data Scientist",
         "41123",
         "GBP",
         "52054",
         "GB",
         "0",
         "GB",
         "M"
        ]
       ],
       "shape": {
        "columns": 11,
        "rows": 10
       }
      },
      "text/html": [
       "<div>\n",
       "<style scoped>\n",
       "    .dataframe tbody tr th:only-of-type {\n",
       "        vertical-align: middle;\n",
       "    }\n",
       "\n",
       "    .dataframe tbody tr th {\n",
       "        vertical-align: top;\n",
       "    }\n",
       "\n",
       "    .dataframe thead th {\n",
       "        text-align: right;\n",
       "    }\n",
       "</style>\n",
       "<table border=\"1\" class=\"dataframe\">\n",
       "  <thead>\n",
       "    <tr style=\"text-align: right;\">\n",
       "      <th></th>\n",
       "      <th>work_year</th>\n",
       "      <th>experience_level</th>\n",
       "      <th>employment_type</th>\n",
       "      <th>job_title</th>\n",
       "      <th>salary</th>\n",
       "      <th>salary_currency</th>\n",
       "      <th>salary_in_usd</th>\n",
       "      <th>employee_residence</th>\n",
       "      <th>remote_ratio</th>\n",
       "      <th>company_location</th>\n",
       "      <th>company_size</th>\n",
       "    </tr>\n",
       "  </thead>\n",
       "  <tbody>\n",
       "    <tr>\n",
       "      <th>0</th>\n",
       "      <td>2025</td>\n",
       "      <td>SE</td>\n",
       "      <td>FT</td>\n",
       "      <td>Data Product Owner</td>\n",
       "      <td>170000</td>\n",
       "      <td>USD</td>\n",
       "      <td>170000</td>\n",
       "      <td>US</td>\n",
       "      <td>0</td>\n",
       "      <td>US</td>\n",
       "      <td>M</td>\n",
       "    </tr>\n",
       "    <tr>\n",
       "      <th>1</th>\n",
       "      <td>2025</td>\n",
       "      <td>SE</td>\n",
       "      <td>FT</td>\n",
       "      <td>Data Product Owner</td>\n",
       "      <td>110000</td>\n",
       "      <td>USD</td>\n",
       "      <td>110000</td>\n",
       "      <td>US</td>\n",
       "      <td>0</td>\n",
       "      <td>US</td>\n",
       "      <td>M</td>\n",
       "    </tr>\n",
       "    <tr>\n",
       "      <th>2</th>\n",
       "      <td>2025</td>\n",
       "      <td>SE</td>\n",
       "      <td>FT</td>\n",
       "      <td>Data Product Owner</td>\n",
       "      <td>170000</td>\n",
       "      <td>USD</td>\n",
       "      <td>170000</td>\n",
       "      <td>US</td>\n",
       "      <td>0</td>\n",
       "      <td>US</td>\n",
       "      <td>M</td>\n",
       "    </tr>\n",
       "    <tr>\n",
       "      <th>3</th>\n",
       "      <td>2025</td>\n",
       "      <td>SE</td>\n",
       "      <td>FT</td>\n",
       "      <td>Data Product Owner</td>\n",
       "      <td>110000</td>\n",
       "      <td>USD</td>\n",
       "      <td>110000</td>\n",
       "      <td>US</td>\n",
       "      <td>0</td>\n",
       "      <td>US</td>\n",
       "      <td>M</td>\n",
       "    </tr>\n",
       "    <tr>\n",
       "      <th>4</th>\n",
       "      <td>2025</td>\n",
       "      <td>SE</td>\n",
       "      <td>FT</td>\n",
       "      <td>Engineer</td>\n",
       "      <td>143000</td>\n",
       "      <td>USD</td>\n",
       "      <td>143000</td>\n",
       "      <td>US</td>\n",
       "      <td>0</td>\n",
       "      <td>US</td>\n",
       "      <td>M</td>\n",
       "    </tr>\n",
       "    <tr>\n",
       "      <th>5</th>\n",
       "      <td>2025</td>\n",
       "      <td>SE</td>\n",
       "      <td>FT</td>\n",
       "      <td>Engineer</td>\n",
       "      <td>106000</td>\n",
       "      <td>USD</td>\n",
       "      <td>106000</td>\n",
       "      <td>US</td>\n",
       "      <td>0</td>\n",
       "      <td>US</td>\n",
       "      <td>M</td>\n",
       "    </tr>\n",
       "    <tr>\n",
       "      <th>6</th>\n",
       "      <td>2025</td>\n",
       "      <td>SE</td>\n",
       "      <td>FT</td>\n",
       "      <td>Manager</td>\n",
       "      <td>360200</td>\n",
       "      <td>USD</td>\n",
       "      <td>360200</td>\n",
       "      <td>US</td>\n",
       "      <td>0</td>\n",
       "      <td>US</td>\n",
       "      <td>M</td>\n",
       "    </tr>\n",
       "    <tr>\n",
       "      <th>7</th>\n",
       "      <td>2025</td>\n",
       "      <td>SE</td>\n",
       "      <td>FT</td>\n",
       "      <td>Manager</td>\n",
       "      <td>239700</td>\n",
       "      <td>USD</td>\n",
       "      <td>239700</td>\n",
       "      <td>US</td>\n",
       "      <td>0</td>\n",
       "      <td>US</td>\n",
       "      <td>M</td>\n",
       "    </tr>\n",
       "    <tr>\n",
       "      <th>8</th>\n",
       "      <td>2025</td>\n",
       "      <td>EN</td>\n",
       "      <td>FT</td>\n",
       "      <td>Data Scientist</td>\n",
       "      <td>49363</td>\n",
       "      <td>GBP</td>\n",
       "      <td>62484</td>\n",
       "      <td>GB</td>\n",
       "      <td>0</td>\n",
       "      <td>GB</td>\n",
       "      <td>M</td>\n",
       "    </tr>\n",
       "    <tr>\n",
       "      <th>9</th>\n",
       "      <td>2025</td>\n",
       "      <td>EN</td>\n",
       "      <td>FT</td>\n",
       "      <td>Data Scientist</td>\n",
       "      <td>41123</td>\n",
       "      <td>GBP</td>\n",
       "      <td>52054</td>\n",
       "      <td>GB</td>\n",
       "      <td>0</td>\n",
       "      <td>GB</td>\n",
       "      <td>M</td>\n",
       "    </tr>\n",
       "  </tbody>\n",
       "</table>\n",
       "</div>"
      ],
      "text/plain": [
       "   work_year experience_level employment_type           job_title  salary  \\\n",
       "0       2025               SE              FT  Data Product Owner  170000   \n",
       "1       2025               SE              FT  Data Product Owner  110000   \n",
       "2       2025               SE              FT  Data Product Owner  170000   \n",
       "3       2025               SE              FT  Data Product Owner  110000   \n",
       "4       2025               SE              FT            Engineer  143000   \n",
       "5       2025               SE              FT            Engineer  106000   \n",
       "6       2025               SE              FT             Manager  360200   \n",
       "7       2025               SE              FT             Manager  239700   \n",
       "8       2025               EN              FT      Data Scientist   49363   \n",
       "9       2025               EN              FT      Data Scientist   41123   \n",
       "\n",
       "  salary_currency  salary_in_usd employee_residence  remote_ratio  \\\n",
       "0             USD         170000                 US             0   \n",
       "1             USD         110000                 US             0   \n",
       "2             USD         170000                 US             0   \n",
       "3             USD         110000                 US             0   \n",
       "4             USD         143000                 US             0   \n",
       "5             USD         106000                 US             0   \n",
       "6             USD         360200                 US             0   \n",
       "7             USD         239700                 US             0   \n",
       "8             GBP          62484                 GB             0   \n",
       "9             GBP          52054                 GB             0   \n",
       "\n",
       "  company_location company_size  \n",
       "0               US            M  \n",
       "1               US            M  \n",
       "2               US            M  \n",
       "3               US            M  \n",
       "4               US            M  \n",
       "5               US            M  \n",
       "6               US            M  \n",
       "7               US            M  \n",
       "8               GB            M  \n",
       "9               GB            M  "
      ]
     },
     "execution_count": 2,
     "metadata": {},
     "output_type": "execute_result"
    }
   ],
   "source": [
    "data.head(10)"
   ]
  },
  {
   "cell_type": "markdown",
   "id": "2712e8fd",
   "metadata": {},
   "source": [
    "Check the numberical data"
   ]
  },
  {
   "cell_type": "code",
   "execution_count": 3,
   "id": "e3ac03b8",
   "metadata": {},
   "outputs": [
    {
     "name": "stdout",
     "output_type": "stream",
     "text": [
      "          work_year        salary  salary_in_usd  remote_ratio\n",
      "count  73148.000000  7.314800e+04   73148.000000  73148.000000\n",
      "mean    2023.831192  1.625534e+05  158013.748619     21.582955\n",
      "std        0.477551  1.925761e+05   72501.304728     41.023051\n",
      "min     2020.000000  1.400000e+04   15000.000000      0.000000\n",
      "25%     2024.000000  1.069575e+05  106890.000000      0.000000\n",
      "50%     2024.000000  1.480000e+05  147500.000000      0.000000\n",
      "75%     2024.000000  2.000000e+05  199700.000000      0.000000\n",
      "max     2025.000000  3.040000e+07  800000.000000    100.000000\n"
     ]
    }
   ],
   "source": [
    "print(data.describe())"
   ]
  },
  {
   "cell_type": "markdown",
   "id": "b15b12c4",
   "metadata": {},
   "source": [
    "Check the categorical data"
   ]
  },
  {
   "cell_type": "code",
   "execution_count": 4,
   "id": "ca17cf68",
   "metadata": {},
   "outputs": [
    {
     "name": "stdout",
     "output_type": "stream",
     "text": [
      "                    count unique             top   freq\n",
      "experience_level    73148      4              SE  42926\n",
      "employment_type     73148      4              FT  72808\n",
      "job_title           73148    289  Data Scientist  11443\n",
      "salary_currency     73148     25             USD  69418\n",
      "employee_residence  73148     93              US  65982\n",
      "company_location    73148     86              US  66035\n",
      "company_size        73148      3               M  70536\n"
     ]
    }
   ],
   "source": [
    "print(data.describe(include=[\"object\"]).T)"
   ]
  },
  {
   "cell_type": "markdown",
   "id": "f753345b",
   "metadata": {},
   "source": [
    "First, we will encode the categorical variables."
   ]
  },
  {
   "cell_type": "code",
   "execution_count": 5,
   "id": "016bb3dc",
   "metadata": {},
   "outputs": [],
   "source": [
    "preprocessed_data = data.copy()"
   ]
  },
  {
   "cell_type": "markdown",
   "id": "9dc36644",
   "metadata": {},
   "source": [
    "There are some columns that can be encoded via ordinal encoding such as `experience_level` and `company_size`."
   ]
  },
  {
   "cell_type": "code",
   "execution_count": 6,
   "id": "527c0305",
   "metadata": {},
   "outputs": [],
   "source": [
    "preprocessed_data[\"company_size\"] = data[\"company_size\"].map(\n",
    "    {\n",
    "        \"S\": 1,\n",
    "        \"M\": 2,\n",
    "        \"L\": 3,\n",
    "    }\n",
    ")\n",
    "preprocessed_data[\"experience_level\"] = data[\"experience_level\"].map(\n",
    "    {\n",
    "        \"EN\": 1,\n",
    "        \"MI\": 2,\n",
    "        \"SE\": 3,\n",
    "        \"EX\": 4,\n",
    "    }\n",
    ")"
   ]
  },
  {
   "cell_type": "markdown",
   "id": "5792c2f6",
   "metadata": {},
   "source": [
    "Some might need to be encode using one-hot encoding such as `employment_type`."
   ]
  },
  {
   "cell_type": "code",
   "execution_count": 7,
   "id": "736a35fd",
   "metadata": {},
   "outputs": [],
   "source": [
    "preprocessed_data = pd.get_dummies(preprocessed_data, columns=[\"employment_type\"], prefix=\"employment_type\", drop_first=True, dtype=int)"
   ]
  },
  {
   "cell_type": "markdown",
   "id": "16b7c1e9",
   "metadata": {},
   "source": [
    "For the `salary_currency` column, we will drop it since it as it can refer from the company location. We will also drop the `salary` column since it is not needed for our analysis."
   ]
  },
  {
   "cell_type": "code",
   "execution_count": 8,
   "id": "6e8321d2",
   "metadata": {},
   "outputs": [],
   "source": [
    "preprocessed_data = preprocessed_data.drop(columns=[\"salary_currency\", \"salary\"], errors=\"ignore\")"
   ]
  },
  {
   "cell_type": "markdown",
   "id": "dfe40c40",
   "metadata": {},
   "source": [
    "For the `job_title` we will explore many method such as `TfidfVectorize`."
   ]
  },
  {
   "cell_type": "code",
   "execution_count": 9,
   "id": "bd79e7a3",
   "metadata": {},
   "outputs": [
    {
     "data": {
      "application/vnd.microsoft.datawrangler.viewer.v0+json": {
       "columns": [
        {
         "name": "index",
         "rawType": "int64",
         "type": "integer"
        },
        {
         "name": "job_title_account",
         "rawType": "float64",
         "type": "float"
        },
        {
         "name": "job_title_actuarial",
         "rawType": "float64",
         "type": "float"
        },
        {
         "name": "job_title_admin",
         "rawType": "float64",
         "type": "float"
        },
        {
         "name": "job_title_administrator",
         "rawType": "float64",
         "type": "float"
        },
        {
         "name": "job_title_ai",
         "rawType": "float64",
         "type": "float"
        },
        {
         "name": "job_title_algorithm",
         "rawType": "float64",
         "type": "float"
        },
        {
         "name": "job_title_analista",
         "rawType": "float64",
         "type": "float"
        },
        {
         "name": "job_title_analyst",
         "rawType": "float64",
         "type": "float"
        },
        {
         "name": "job_title_analytics",
         "rawType": "float64",
         "type": "float"
        },
        {
         "name": "job_title_and",
         "rawType": "float64",
         "type": "float"
        },
        {
         "name": "job_title_application",
         "rawType": "float64",
         "type": "float"
        },
        {
         "name": "job_title_applied",
         "rawType": "float64",
         "type": "float"
        },
        {
         "name": "job_title_architect",
         "rawType": "float64",
         "type": "float"
        },
        {
         "name": "job_title_artificial",
         "rawType": "float64",
         "type": "float"
        },
        {
         "name": "job_title_assistant",
         "rawType": "float64",
         "type": "float"
        },
        {
         "name": "job_title_associate",
         "rawType": "float64",
         "type": "float"
        },
        {
         "name": "job_title_autonomous",
         "rawType": "float64",
         "type": "float"
        },
        {
         "name": "job_title_aws",
         "rawType": "float64",
         "type": "float"
        },
        {
         "name": "job_title_azure",
         "rawType": "float64",
         "type": "float"
        },
        {
         "name": "job_title_backend",
         "rawType": "float64",
         "type": "float"
        },
        {
         "name": "job_title_bear",
         "rawType": "float64",
         "type": "float"
        },
        {
         "name": "job_title_bi",
         "rawType": "float64",
         "type": "float"
        },
        {
         "name": "job_title_big",
         "rawType": "float64",
         "type": "float"
        },
        {
         "name": "job_title_bioinformatician",
         "rawType": "float64",
         "type": "float"
        },
        {
         "name": "job_title_bioinformatics",
         "rawType": "float64",
         "type": "float"
        },
        {
         "name": "job_title_biologist",
         "rawType": "float64",
         "type": "float"
        },
        {
         "name": "job_title_business",
         "rawType": "float64",
         "type": "float"
        },
        {
         "name": "job_title_chatbot",
         "rawType": "float64",
         "type": "float"
        },
        {
         "name": "job_title_clinical",
         "rawType": "float64",
         "type": "float"
        },
        {
         "name": "job_title_cloud",
         "rawType": "float64",
         "type": "float"
        },
        {
         "name": "job_title_compliance",
         "rawType": "float64",
         "type": "float"
        },
        {
         "name": "job_title_computational",
         "rawType": "float64",
         "type": "float"
        },
        {
         "name": "job_title_computer",
         "rawType": "float64",
         "type": "float"
        },
        {
         "name": "job_title_consultant",
         "rawType": "float64",
         "type": "float"
        },
        {
         "name": "job_title_controls",
         "rawType": "float64",
         "type": "float"
        },
        {
         "name": "job_title_coordinator",
         "rawType": "float64",
         "type": "float"
        },
        {
         "name": "job_title_crm",
         "rawType": "float64",
         "type": "float"
        },
        {
         "name": "job_title_data",
         "rawType": "float64",
         "type": "float"
        },
        {
         "name": "job_title_database",
         "rawType": "float64",
         "type": "float"
        },
        {
         "name": "job_title_databricks",
         "rawType": "float64",
         "type": "float"
        },
        {
         "name": "job_title_dataops",
         "rawType": "float64",
         "type": "float"
        },
        {
         "name": "job_title_datos",
         "rawType": "float64",
         "type": "float"
        },
        {
         "name": "job_title_de",
         "rawType": "float64",
         "type": "float"
        },
        {
         "name": "job_title_decision",
         "rawType": "float64",
         "type": "float"
        },
        {
         "name": "job_title_deep",
         "rawType": "float64",
         "type": "float"
        },
        {
         "name": "job_title_delivery",
         "rawType": "float64",
         "type": "float"
        },
        {
         "name": "job_title_designer",
         "rawType": "float64",
         "type": "float"
        },
        {
         "name": "job_title_developer",
         "rawType": "float64",
         "type": "float"
        },
        {
         "name": "job_title_development",
         "rawType": "float64",
         "type": "float"
        },
        {
         "name": "job_title_devops",
         "rawType": "float64",
         "type": "float"
        },
        {
         "name": "job_title_director",
         "rawType": "float64",
         "type": "float"
        },
        {
         "name": "job_title_elasticsearch",
         "rawType": "float64",
         "type": "float"
        },
        {
         "name": "job_title_encounter",
         "rawType": "float64",
         "type": "float"
        },
        {
         "name": "job_title_engineer",
         "rawType": "float64",
         "type": "float"
        },
        {
         "name": "job_title_engineering",
         "rawType": "float64",
         "type": "float"
        },
        {
         "name": "job_title_enterprise",
         "rawType": "float64",
         "type": "float"
        },
        {
         "name": "job_title_etl",
         "rawType": "float64",
         "type": "float"
        },
        {
         "name": "job_title_executive",
         "rawType": "float64",
         "type": "float"
        },
        {
         "name": "job_title_fellow",
         "rawType": "float64",
         "type": "float"
        },
        {
         "name": "job_title_finance",
         "rawType": "float64",
         "type": "float"
        },
        {
         "name": "job_title_financial",
         "rawType": "float64",
         "type": "float"
        },
        {
         "name": "job_title_frontend",
         "rawType": "float64",
         "type": "float"
        },
        {
         "name": "job_title_full",
         "rawType": "float64",
         "type": "float"
        },
        {
         "name": "job_title_fullstack",
         "rawType": "float64",
         "type": "float"
        },
        {
         "name": "job_title_governance",
         "rawType": "float64",
         "type": "float"
        },
        {
         "name": "job_title_head",
         "rawType": "float64",
         "type": "float"
        },
        {
         "name": "job_title_infrastructure",
         "rawType": "float64",
         "type": "float"
        },
        {
         "name": "job_title_insight",
         "rawType": "float64",
         "type": "float"
        },
        {
         "name": "job_title_insights",
         "rawType": "float64",
         "type": "float"
        },
        {
         "name": "job_title_integration",
         "rawType": "float64",
         "type": "float"
        },
        {
         "name": "job_title_integrator",
         "rawType": "float64",
         "type": "float"
        },
        {
         "name": "job_title_integrity",
         "rawType": "float64",
         "type": "float"
        },
        {
         "name": "job_title_intelligence",
         "rawType": "float64",
         "type": "float"
        },
        {
         "name": "job_title_lead",
         "rawType": "float64",
         "type": "float"
        },
        {
         "name": "job_title_learning",
         "rawType": "float64",
         "type": "float"
        },
        {
         "name": "job_title_machine",
         "rawType": "float64",
         "type": "float"
        },
        {
         "name": "job_title_management",
         "rawType": "float64",
         "type": "float"
        },
        {
         "name": "job_title_manager",
         "rawType": "float64",
         "type": "float"
        },
        {
         "name": "job_title_marketing",
         "rawType": "float64",
         "type": "float"
        },
        {
         "name": "job_title_master",
         "rawType": "float64",
         "type": "float"
        },
        {
         "name": "job_title_member",
         "rawType": "float64",
         "type": "float"
        },
        {
         "name": "job_title_ml",
         "rawType": "float64",
         "type": "float"
        },
        {
         "name": "job_title_mlops",
         "rawType": "float64",
         "type": "float"
        },
        {
         "name": "job_title_model",
         "rawType": "float64",
         "type": "float"
        },
        {
         "name": "job_title_modeler",
         "rawType": "float64",
         "type": "float"
        },
        {
         "name": "job_title_nlp",
         "rawType": "float64",
         "type": "float"
        },
        {
         "name": "job_title_of",
         "rawType": "float64",
         "type": "float"
        },
        {
         "name": "job_title_operations",
         "rawType": "float64",
         "type": "float"
        },
        {
         "name": "job_title_operator",
         "rawType": "float64",
         "type": "float"
        },
        {
         "name": "job_title_owner",
         "rawType": "float64",
         "type": "float"
        },
        {
         "name": "job_title_people",
         "rawType": "float64",
         "type": "float"
        },
        {
         "name": "job_title_performance",
         "rawType": "float64",
         "type": "float"
        },
        {
         "name": "job_title_pipeline",
         "rawType": "float64",
         "type": "float"
        },
        {
         "name": "job_title_platform",
         "rawType": "float64",
         "type": "float"
        },
        {
         "name": "job_title_postdoctoral",
         "rawType": "float64",
         "type": "float"
        },
        {
         "name": "job_title_power",
         "rawType": "float64",
         "type": "float"
        },
        {
         "name": "job_title_pricing",
         "rawType": "float64",
         "type": "float"
        },
        {
         "name": "job_title_principal",
         "rawType": "float64",
         "type": "float"
        },
        {
         "name": "job_title_product",
         "rawType": "float64",
         "type": "float"
        },
        {
         "name": "job_title_professional",
         "rawType": "float64",
         "type": "float"
        },
        {
         "name": "job_title_programmer",
         "rawType": "float64",
         "type": "float"
        },
        {
         "name": "job_title_prompt",
         "rawType": "float64",
         "type": "float"
        },
        {
         "name": "job_title_python",
         "rawType": "float64",
         "type": "float"
        },
        {
         "name": "job_title_qa",
         "rawType": "float64",
         "type": "float"
        },
        {
         "name": "job_title_quality",
         "rawType": "float64",
         "type": "float"
        },
        {
         "name": "job_title_quantitative",
         "rawType": "float64",
         "type": "float"
        },
        {
         "name": "job_title_reliability",
         "rawType": "float64",
         "type": "float"
        },
        {
         "name": "job_title_reporter",
         "rawType": "float64",
         "type": "float"
        },
        {
         "name": "job_title_reporting",
         "rawType": "float64",
         "type": "float"
        },
        {
         "name": "job_title_representative",
         "rawType": "float64",
         "type": "float"
        },
        {
         "name": "job_title_research",
         "rawType": "float64",
         "type": "float"
        },
        {
         "name": "job_title_researcher",
         "rawType": "float64",
         "type": "float"
        },
        {
         "name": "job_title_risk",
         "rawType": "float64",
         "type": "float"
        },
        {
         "name": "job_title_robotics",
         "rawType": "float64",
         "type": "float"
        },
        {
         "name": "job_title_sales",
         "rawType": "float64",
         "type": "float"
        },
        {
         "name": "job_title_sas",
         "rawType": "float64",
         "type": "float"
        },
        {
         "name": "job_title_scala",
         "rawType": "float64",
         "type": "float"
        },
        {
         "name": "job_title_science",
         "rawType": "float64",
         "type": "float"
        },
        {
         "name": "job_title_scientist",
         "rawType": "float64",
         "type": "float"
        },
        {
         "name": "job_title_security",
         "rawType": "float64",
         "type": "float"
        },
        {
         "name": "job_title_site",
         "rawType": "float64",
         "type": "float"
        },
        {
         "name": "job_title_software",
         "rawType": "float64",
         "type": "float"
        },
        {
         "name": "job_title_solution",
         "rawType": "float64",
         "type": "float"
        },
        {
         "name": "job_title_solutions",
         "rawType": "float64",
         "type": "float"
        },
        {
         "name": "job_title_spark",
         "rawType": "float64",
         "type": "float"
        },
        {
         "name": "job_title_specialist",
         "rawType": "float64",
         "type": "float"
        },
        {
         "name": "job_title_stack",
         "rawType": "float64",
         "type": "float"
        },
        {
         "name": "job_title_staff",
         "rawType": "float64",
         "type": "float"
        },
        {
         "name": "job_title_stage",
         "rawType": "float64",
         "type": "float"
        },
        {
         "name": "job_title_statistical",
         "rawType": "float64",
         "type": "float"
        },
        {
         "name": "job_title_statistician",
         "rawType": "float64",
         "type": "float"
        },
        {
         "name": "job_title_strategist",
         "rawType": "float64",
         "type": "float"
        },
        {
         "name": "job_title_strategy",
         "rawType": "float64",
         "type": "float"
        },
        {
         "name": "job_title_system",
         "rawType": "float64",
         "type": "float"
        },
        {
         "name": "job_title_systems",
         "rawType": "float64",
         "type": "float"
        },
        {
         "name": "job_title_team",
         "rawType": "float64",
         "type": "float"
        },
        {
         "name": "job_title_tech",
         "rawType": "float64",
         "type": "float"
        },
        {
         "name": "job_title_technical",
         "rawType": "float64",
         "type": "float"
        },
        {
         "name": "job_title_technician",
         "rawType": "float64",
         "type": "float"
        },
        {
         "name": "job_title_technology",
         "rawType": "float64",
         "type": "float"
        },
        {
         "name": "job_title_vehicle",
         "rawType": "float64",
         "type": "float"
        },
        {
         "name": "job_title_vision",
         "rawType": "float64",
         "type": "float"
        },
        {
         "name": "job_title_visualization",
         "rawType": "float64",
         "type": "float"
        },
        {
         "name": "job_title_writer",
         "rawType": "float64",
         "type": "float"
        }
       ],
       "ref": "4cbdac52-e1c3-4d25-a17f-89a45f61399c",
       "rows": [
        [
         "0",
         "0.0",
         "0.0",
         "0.0",
         "0.0",
         "0.0",
         "0.0",
         "0.0",
         "0.0",
         "0.0",
         "0.0",
         "0.0",
         "0.0",
         "0.0",
         "0.0",
         "0.0",
         "0.0",
         "0.0",
         "0.0",
         "0.0",
         "0.0",
         "0.0",
         "0.0",
         "0.0",
         "0.0",
         "0.0",
         "0.0",
         "0.0",
         "0.0",
         "0.0",
         "0.0",
         "0.0",
         "0.0",
         "0.0",
         "0.0",
         "0.0",
         "0.0",
         "0.0",
         "0.19163533230562757",
         "0.0",
         "0.0",
         "0.0",
         "0.0",
         "0.0",
         "0.0",
         "0.0",
         "0.0",
         "0.0",
         "0.0",
         "0.0",
         "0.0",
         "0.0",
         "0.0",
         "0.0",
         "0.0",
         "0.0",
         "0.0",
         "0.0",
         "0.0",
         "0.0",
         "0.0",
         "0.0",
         "0.0",
         "0.0",
         "0.0",
         "0.0",
         "0.0",
         "0.0",
         "0.0",
         "0.0",
         "0.0",
         "0.0",
         "0.0",
         "0.0",
         "0.0",
         "0.0",
         "0.0",
         "0.0",
         "0.0",
         "0.0",
         "0.0",
         "0.0",
         "0.0",
         "0.0",
         "0.0",
         "0.0",
         "0.0",
         "0.0",
         "0.0",
         "0.0",
         "0.826953250626024",
         "0.0",
         "0.0",
         "0.0",
         "0.0",
         "0.0",
         "0.0",
         "0.0",
         "0.0",
         "0.528605921922148",
         "0.0",
         "0.0",
         "0.0",
         "0.0",
         "0.0",
         "0.0",
         "0.0",
         "0.0",
         "0.0",
         "0.0",
         "0.0",
         "0.0",
         "0.0",
         "0.0",
         "0.0",
         "0.0",
         "0.0",
         "0.0",
         "0.0",
         "0.0",
         "0.0",
         "0.0",
         "0.0",
         "0.0",
         "0.0",
         "0.0",
         "0.0",
         "0.0",
         "0.0",
         "0.0",
         "0.0",
         "0.0",
         "0.0",
         "0.0",
         "0.0",
         "0.0",
         "0.0",
         "0.0",
         "0.0",
         "0.0",
         "0.0",
         "0.0",
         "0.0",
         "0.0",
         "0.0"
        ],
        [
         "1",
         "0.0",
         "0.0",
         "0.0",
         "0.0",
         "0.0",
         "0.0",
         "0.0",
         "0.0",
         "0.0",
         "0.0",
         "0.0",
         "0.0",
         "0.0",
         "0.0",
         "0.0",
         "0.0",
         "0.0",
         "0.0",
         "0.0",
         "0.0",
         "0.0",
         "0.0",
         "0.0",
         "0.0",
         "0.0",
         "0.0",
         "0.0",
         "0.0",
         "0.0",
         "0.0",
         "0.0",
         "0.0",
         "0.0",
         "0.0",
         "0.0",
         "0.0",
         "0.0",
         "0.19163533230562757",
         "0.0",
         "0.0",
         "0.0",
         "0.0",
         "0.0",
         "0.0",
         "0.0",
         "0.0",
         "0.0",
         "0.0",
         "0.0",
         "0.0",
         "0.0",
         "0.0",
         "0.0",
         "0.0",
         "0.0",
         "0.0",
         "0.0",
         "0.0",
         "0.0",
         "0.0",
         "0.0",
         "0.0",
         "0.0",
         "0.0",
         "0.0",
         "0.0",
         "0.0",
         "0.0",
         "0.0",
         "0.0",
         "0.0",
         "0.0",
         "0.0",
         "0.0",
         "0.0",
         "0.0",
         "0.0",
         "0.0",
         "0.0",
         "0.0",
         "0.0",
         "0.0",
         "0.0",
         "0.0",
         "0.0",
         "0.0",
         "0.0",
         "0.0",
         "0.0",
         "0.826953250626024",
         "0.0",
         "0.0",
         "0.0",
         "0.0",
         "0.0",
         "0.0",
         "0.0",
         "0.0",
         "0.528605921922148",
         "0.0",
         "0.0",
         "0.0",
         "0.0",
         "0.0",
         "0.0",
         "0.0",
         "0.0",
         "0.0",
         "0.0",
         "0.0",
         "0.0",
         "0.0",
         "0.0",
         "0.0",
         "0.0",
         "0.0",
         "0.0",
         "0.0",
         "0.0",
         "0.0",
         "0.0",
         "0.0",
         "0.0",
         "0.0",
         "0.0",
         "0.0",
         "0.0",
         "0.0",
         "0.0",
         "0.0",
         "0.0",
         "0.0",
         "0.0",
         "0.0",
         "0.0",
         "0.0",
         "0.0",
         "0.0",
         "0.0",
         "0.0",
         "0.0",
         "0.0",
         "0.0",
         "0.0"
        ],
        [
         "2",
         "0.0",
         "0.0",
         "0.0",
         "0.0",
         "0.0",
         "0.0",
         "0.0",
         "0.0",
         "0.0",
         "0.0",
         "0.0",
         "0.0",
         "0.0",
         "0.0",
         "0.0",
         "0.0",
         "0.0",
         "0.0",
         "0.0",
         "0.0",
         "0.0",
         "0.0",
         "0.0",
         "0.0",
         "0.0",
         "0.0",
         "0.0",
         "0.0",
         "0.0",
         "0.0",
         "0.0",
         "0.0",
         "0.0",
         "0.0",
         "0.0",
         "0.0",
         "0.0",
         "0.19163533230562757",
         "0.0",
         "0.0",
         "0.0",
         "0.0",
         "0.0",
         "0.0",
         "0.0",
         "0.0",
         "0.0",
         "0.0",
         "0.0",
         "0.0",
         "0.0",
         "0.0",
         "0.0",
         "0.0",
         "0.0",
         "0.0",
         "0.0",
         "0.0",
         "0.0",
         "0.0",
         "0.0",
         "0.0",
         "0.0",
         "0.0",
         "0.0",
         "0.0",
         "0.0",
         "0.0",
         "0.0",
         "0.0",
         "0.0",
         "0.0",
         "0.0",
         "0.0",
         "0.0",
         "0.0",
         "0.0",
         "0.0",
         "0.0",
         "0.0",
         "0.0",
         "0.0",
         "0.0",
         "0.0",
         "0.0",
         "0.0",
         "0.0",
         "0.0",
         "0.0",
         "0.826953250626024",
         "0.0",
         "0.0",
         "0.0",
         "0.0",
         "0.0",
         "0.0",
         "0.0",
         "0.0",
         "0.528605921922148",
         "0.0",
         "0.0",
         "0.0",
         "0.0",
         "0.0",
         "0.0",
         "0.0",
         "0.0",
         "0.0",
         "0.0",
         "0.0",
         "0.0",
         "0.0",
         "0.0",
         "0.0",
         "0.0",
         "0.0",
         "0.0",
         "0.0",
         "0.0",
         "0.0",
         "0.0",
         "0.0",
         "0.0",
         "0.0",
         "0.0",
         "0.0",
         "0.0",
         "0.0",
         "0.0",
         "0.0",
         "0.0",
         "0.0",
         "0.0",
         "0.0",
         "0.0",
         "0.0",
         "0.0",
         "0.0",
         "0.0",
         "0.0",
         "0.0",
         "0.0",
         "0.0",
         "0.0"
        ],
        [
         "3",
         "0.0",
         "0.0",
         "0.0",
         "0.0",
         "0.0",
         "0.0",
         "0.0",
         "0.0",
         "0.0",
         "0.0",
         "0.0",
         "0.0",
         "0.0",
         "0.0",
         "0.0",
         "0.0",
         "0.0",
         "0.0",
         "0.0",
         "0.0",
         "0.0",
         "0.0",
         "0.0",
         "0.0",
         "0.0",
         "0.0",
         "0.0",
         "0.0",
         "0.0",
         "0.0",
         "0.0",
         "0.0",
         "0.0",
         "0.0",
         "0.0",
         "0.0",
         "0.0",
         "0.19163533230562757",
         "0.0",
         "0.0",
         "0.0",
         "0.0",
         "0.0",
         "0.0",
         "0.0",
         "0.0",
         "0.0",
         "0.0",
         "0.0",
         "0.0",
         "0.0",
         "0.0",
         "0.0",
         "0.0",
         "0.0",
         "0.0",
         "0.0",
         "0.0",
         "0.0",
         "0.0",
         "0.0",
         "0.0",
         "0.0",
         "0.0",
         "0.0",
         "0.0",
         "0.0",
         "0.0",
         "0.0",
         "0.0",
         "0.0",
         "0.0",
         "0.0",
         "0.0",
         "0.0",
         "0.0",
         "0.0",
         "0.0",
         "0.0",
         "0.0",
         "0.0",
         "0.0",
         "0.0",
         "0.0",
         "0.0",
         "0.0",
         "0.0",
         "0.0",
         "0.0",
         "0.826953250626024",
         "0.0",
         "0.0",
         "0.0",
         "0.0",
         "0.0",
         "0.0",
         "0.0",
         "0.0",
         "0.528605921922148",
         "0.0",
         "0.0",
         "0.0",
         "0.0",
         "0.0",
         "0.0",
         "0.0",
         "0.0",
         "0.0",
         "0.0",
         "0.0",
         "0.0",
         "0.0",
         "0.0",
         "0.0",
         "0.0",
         "0.0",
         "0.0",
         "0.0",
         "0.0",
         "0.0",
         "0.0",
         "0.0",
         "0.0",
         "0.0",
         "0.0",
         "0.0",
         "0.0",
         "0.0",
         "0.0",
         "0.0",
         "0.0",
         "0.0",
         "0.0",
         "0.0",
         "0.0",
         "0.0",
         "0.0",
         "0.0",
         "0.0",
         "0.0",
         "0.0",
         "0.0",
         "0.0",
         "0.0"
        ],
        [
         "4",
         "0.0",
         "0.0",
         "0.0",
         "0.0",
         "0.0",
         "0.0",
         "0.0",
         "0.0",
         "0.0",
         "0.0",
         "0.0",
         "0.0",
         "0.0",
         "0.0",
         "0.0",
         "0.0",
         "0.0",
         "0.0",
         "0.0",
         "0.0",
         "0.0",
         "0.0",
         "0.0",
         "0.0",
         "0.0",
         "0.0",
         "0.0",
         "0.0",
         "0.0",
         "0.0",
         "0.0",
         "0.0",
         "0.0",
         "0.0",
         "0.0",
         "0.0",
         "0.0",
         "0.0",
         "0.0",
         "0.0",
         "0.0",
         "0.0",
         "0.0",
         "0.0",
         "0.0",
         "0.0",
         "0.0",
         "0.0",
         "0.0",
         "0.0",
         "0.0",
         "0.0",
         "0.0",
         "1.0",
         "0.0",
         "0.0",
         "0.0",
         "0.0",
         "0.0",
         "0.0",
         "0.0",
         "0.0",
         "0.0",
         "0.0",
         "0.0",
         "0.0",
         "0.0",
         "0.0",
         "0.0",
         "0.0",
         "0.0",
         "0.0",
         "0.0",
         "0.0",
         "0.0",
         "0.0",
         "0.0",
         "0.0",
         "0.0",
         "0.0",
         "0.0",
         "0.0",
         "0.0",
         "0.0",
         "0.0",
         "0.0",
         "0.0",
         "0.0",
         "0.0",
         "0.0",
         "0.0",
         "0.0",
         "0.0",
         "0.0",
         "0.0",
         "0.0",
         "0.0",
         "0.0",
         "0.0",
         "0.0",
         "0.0",
         "0.0",
         "0.0",
         "0.0",
         "0.0",
         "0.0",
         "0.0",
         "0.0",
         "0.0",
         "0.0",
         "0.0",
         "0.0",
         "0.0",
         "0.0",
         "0.0",
         "0.0",
         "0.0",
         "0.0",
         "0.0",
         "0.0",
         "0.0",
         "0.0",
         "0.0",
         "0.0",
         "0.0",
         "0.0",
         "0.0",
         "0.0",
         "0.0",
         "0.0",
         "0.0",
         "0.0",
         "0.0",
         "0.0",
         "0.0",
         "0.0",
         "0.0",
         "0.0",
         "0.0",
         "0.0",
         "0.0",
         "0.0",
         "0.0",
         "0.0"
        ]
       ],
       "shape": {
        "columns": 144,
        "rows": 5
       }
      },
      "text/html": [
       "<div>\n",
       "<style scoped>\n",
       "    .dataframe tbody tr th:only-of-type {\n",
       "        vertical-align: middle;\n",
       "    }\n",
       "\n",
       "    .dataframe tbody tr th {\n",
       "        vertical-align: top;\n",
       "    }\n",
       "\n",
       "    .dataframe thead th {\n",
       "        text-align: right;\n",
       "    }\n",
       "</style>\n",
       "<table border=\"1\" class=\"dataframe\">\n",
       "  <thead>\n",
       "    <tr style=\"text-align: right;\">\n",
       "      <th></th>\n",
       "      <th>job_title_account</th>\n",
       "      <th>job_title_actuarial</th>\n",
       "      <th>job_title_admin</th>\n",
       "      <th>job_title_administrator</th>\n",
       "      <th>job_title_ai</th>\n",
       "      <th>job_title_algorithm</th>\n",
       "      <th>job_title_analista</th>\n",
       "      <th>job_title_analyst</th>\n",
       "      <th>job_title_analytics</th>\n",
       "      <th>job_title_and</th>\n",
       "      <th>...</th>\n",
       "      <th>job_title_systems</th>\n",
       "      <th>job_title_team</th>\n",
       "      <th>job_title_tech</th>\n",
       "      <th>job_title_technical</th>\n",
       "      <th>job_title_technician</th>\n",
       "      <th>job_title_technology</th>\n",
       "      <th>job_title_vehicle</th>\n",
       "      <th>job_title_vision</th>\n",
       "      <th>job_title_visualization</th>\n",
       "      <th>job_title_writer</th>\n",
       "    </tr>\n",
       "  </thead>\n",
       "  <tbody>\n",
       "    <tr>\n",
       "      <th>0</th>\n",
       "      <td>0.0</td>\n",
       "      <td>0.0</td>\n",
       "      <td>0.0</td>\n",
       "      <td>0.0</td>\n",
       "      <td>0.0</td>\n",
       "      <td>0.0</td>\n",
       "      <td>0.0</td>\n",
       "      <td>0.0</td>\n",
       "      <td>0.0</td>\n",
       "      <td>0.0</td>\n",
       "      <td>...</td>\n",
       "      <td>0.0</td>\n",
       "      <td>0.0</td>\n",
       "      <td>0.0</td>\n",
       "      <td>0.0</td>\n",
       "      <td>0.0</td>\n",
       "      <td>0.0</td>\n",
       "      <td>0.0</td>\n",
       "      <td>0.0</td>\n",
       "      <td>0.0</td>\n",
       "      <td>0.0</td>\n",
       "    </tr>\n",
       "    <tr>\n",
       "      <th>1</th>\n",
       "      <td>0.0</td>\n",
       "      <td>0.0</td>\n",
       "      <td>0.0</td>\n",
       "      <td>0.0</td>\n",
       "      <td>0.0</td>\n",
       "      <td>0.0</td>\n",
       "      <td>0.0</td>\n",
       "      <td>0.0</td>\n",
       "      <td>0.0</td>\n",
       "      <td>0.0</td>\n",
       "      <td>...</td>\n",
       "      <td>0.0</td>\n",
       "      <td>0.0</td>\n",
       "      <td>0.0</td>\n",
       "      <td>0.0</td>\n",
       "      <td>0.0</td>\n",
       "      <td>0.0</td>\n",
       "      <td>0.0</td>\n",
       "      <td>0.0</td>\n",
       "      <td>0.0</td>\n",
       "      <td>0.0</td>\n",
       "    </tr>\n",
       "    <tr>\n",
       "      <th>2</th>\n",
       "      <td>0.0</td>\n",
       "      <td>0.0</td>\n",
       "      <td>0.0</td>\n",
       "      <td>0.0</td>\n",
       "      <td>0.0</td>\n",
       "      <td>0.0</td>\n",
       "      <td>0.0</td>\n",
       "      <td>0.0</td>\n",
       "      <td>0.0</td>\n",
       "      <td>0.0</td>\n",
       "      <td>...</td>\n",
       "      <td>0.0</td>\n",
       "      <td>0.0</td>\n",
       "      <td>0.0</td>\n",
       "      <td>0.0</td>\n",
       "      <td>0.0</td>\n",
       "      <td>0.0</td>\n",
       "      <td>0.0</td>\n",
       "      <td>0.0</td>\n",
       "      <td>0.0</td>\n",
       "      <td>0.0</td>\n",
       "    </tr>\n",
       "    <tr>\n",
       "      <th>3</th>\n",
       "      <td>0.0</td>\n",
       "      <td>0.0</td>\n",
       "      <td>0.0</td>\n",
       "      <td>0.0</td>\n",
       "      <td>0.0</td>\n",
       "      <td>0.0</td>\n",
       "      <td>0.0</td>\n",
       "      <td>0.0</td>\n",
       "      <td>0.0</td>\n",
       "      <td>0.0</td>\n",
       "      <td>...</td>\n",
       "      <td>0.0</td>\n",
       "      <td>0.0</td>\n",
       "      <td>0.0</td>\n",
       "      <td>0.0</td>\n",
       "      <td>0.0</td>\n",
       "      <td>0.0</td>\n",
       "      <td>0.0</td>\n",
       "      <td>0.0</td>\n",
       "      <td>0.0</td>\n",
       "      <td>0.0</td>\n",
       "    </tr>\n",
       "    <tr>\n",
       "      <th>4</th>\n",
       "      <td>0.0</td>\n",
       "      <td>0.0</td>\n",
       "      <td>0.0</td>\n",
       "      <td>0.0</td>\n",
       "      <td>0.0</td>\n",
       "      <td>0.0</td>\n",
       "      <td>0.0</td>\n",
       "      <td>0.0</td>\n",
       "      <td>0.0</td>\n",
       "      <td>0.0</td>\n",
       "      <td>...</td>\n",
       "      <td>0.0</td>\n",
       "      <td>0.0</td>\n",
       "      <td>0.0</td>\n",
       "      <td>0.0</td>\n",
       "      <td>0.0</td>\n",
       "      <td>0.0</td>\n",
       "      <td>0.0</td>\n",
       "      <td>0.0</td>\n",
       "      <td>0.0</td>\n",
       "      <td>0.0</td>\n",
       "    </tr>\n",
       "  </tbody>\n",
       "</table>\n",
       "<p>5 rows × 144 columns</p>\n",
       "</div>"
      ],
      "text/plain": [
       "   job_title_account  job_title_actuarial  job_title_admin  \\\n",
       "0                0.0                  0.0              0.0   \n",
       "1                0.0                  0.0              0.0   \n",
       "2                0.0                  0.0              0.0   \n",
       "3                0.0                  0.0              0.0   \n",
       "4                0.0                  0.0              0.0   \n",
       "\n",
       "   job_title_administrator  job_title_ai  job_title_algorithm  \\\n",
       "0                      0.0           0.0                  0.0   \n",
       "1                      0.0           0.0                  0.0   \n",
       "2                      0.0           0.0                  0.0   \n",
       "3                      0.0           0.0                  0.0   \n",
       "4                      0.0           0.0                  0.0   \n",
       "\n",
       "   job_title_analista  job_title_analyst  job_title_analytics  job_title_and  \\\n",
       "0                 0.0                0.0                  0.0            0.0   \n",
       "1                 0.0                0.0                  0.0            0.0   \n",
       "2                 0.0                0.0                  0.0            0.0   \n",
       "3                 0.0                0.0                  0.0            0.0   \n",
       "4                 0.0                0.0                  0.0            0.0   \n",
       "\n",
       "   ...  job_title_systems  job_title_team  job_title_tech  \\\n",
       "0  ...                0.0             0.0             0.0   \n",
       "1  ...                0.0             0.0             0.0   \n",
       "2  ...                0.0             0.0             0.0   \n",
       "3  ...                0.0             0.0             0.0   \n",
       "4  ...                0.0             0.0             0.0   \n",
       "\n",
       "   job_title_technical  job_title_technician  job_title_technology  \\\n",
       "0                  0.0                   0.0                   0.0   \n",
       "1                  0.0                   0.0                   0.0   \n",
       "2                  0.0                   0.0                   0.0   \n",
       "3                  0.0                   0.0                   0.0   \n",
       "4                  0.0                   0.0                   0.0   \n",
       "\n",
       "   job_title_vehicle  job_title_vision  job_title_visualization  \\\n",
       "0                0.0               0.0                      0.0   \n",
       "1                0.0               0.0                      0.0   \n",
       "2                0.0               0.0                      0.0   \n",
       "3                0.0               0.0                      0.0   \n",
       "4                0.0               0.0                      0.0   \n",
       "\n",
       "   job_title_writer  \n",
       "0               0.0  \n",
       "1               0.0  \n",
       "2               0.0  \n",
       "3               0.0  \n",
       "4               0.0  \n",
       "\n",
       "[5 rows x 144 columns]"
      ]
     },
     "execution_count": 9,
     "metadata": {},
     "output_type": "execute_result"
    }
   ],
   "source": [
    "from sklearn.feature_extraction.text import TfidfVectorizer\n",
    "\n",
    "vectorizer = TfidfVectorizer()\n",
    "job_title = vectorizer.fit_transform(data[\"job_title\"])\n",
    "job_title_df = pd.DataFrame(job_title.toarray(), columns=vectorizer.get_feature_names_out())\n",
    "# Prefix columns names with \"job_title_\"\n",
    "job_title_df.columns = [f\"job_title_{col}\" for col in job_title_df.columns]\n",
    "job_title_df.head()"
   ]
  },
  {
   "cell_type": "markdown",
   "id": "30a587b8",
   "metadata": {},
   "source": [
    "Concat the vectorized text data with the numerical data and categorical data."
   ]
  },
  {
   "cell_type": "code",
   "execution_count": 10,
   "id": "330cefa5",
   "metadata": {},
   "outputs": [],
   "source": [
    "preprocessed_data = pd.concat([preprocessed_data, job_title_df], axis=1)\n",
    "preprocessed_data = preprocessed_data.drop(columns=[\"job_title\"], errors=\"ignore\")"
   ]
  },
  {
   "cell_type": "markdown",
   "id": "6d6c5348",
   "metadata": {},
   "source": [
    "Drop the null values"
   ]
  },
  {
   "cell_type": "code",
   "execution_count": 11,
   "id": "02a7ee84",
   "metadata": {},
   "outputs": [],
   "source": [
    "preprocessed_data = preprocessed_data.dropna()"
   ]
  },
  {
   "cell_type": "markdown",
   "id": "74a293c7",
   "metadata": {},
   "source": [
    "Replace the country data such as `company_location` and `employee_residence` with the GDP data which could be related to the salary. But since our data use the ISO 3166-1 alpha-2 code, we will need to convert the ISO code to the country name. We will use another dataset to do that."
   ]
  },
  {
   "cell_type": "code",
   "execution_count": 12,
   "id": "fd8ae149",
   "metadata": {},
   "outputs": [
    {
     "data": {
      "application/vnd.microsoft.datawrangler.viewer.v0+json": {
       "columns": [
        {
         "name": "index",
         "rawType": "int64",
         "type": "integer"
        },
        {
         "name": "iso2",
         "rawType": "object",
         "type": "string"
        },
        {
         "name": "iso3",
         "rawType": "object",
         "type": "string"
        },
        {
         "name": "iso_num",
         "rawType": "int64",
         "type": "integer"
        },
        {
         "name": "country",
         "rawType": "object",
         "type": "string"
        },
        {
         "name": "country_common",
         "rawType": "object",
         "type": "string"
        }
       ],
       "ref": "7c5a7a73-b3a1-42f8-9057-2b7de69b4d90",
       "rows": [
        [
         "0",
         "AF",
         "AFG",
         "4",
         "Afghanistan",
         "Afghanistan"
        ],
        [
         "1",
         "AX",
         "ALA",
         "248",
         "Aland Islands",
         "Aland Islands"
        ],
        [
         "2",
         "AL",
         "ALB",
         "8",
         "Albania",
         "Albania"
        ],
        [
         "3",
         "DZ",
         "DZA",
         "12",
         "Algeria",
         "Algeria"
        ],
        [
         "4",
         "AS",
         "ASM",
         "16",
         "American Samoa",
         "Samoa"
        ]
       ],
       "shape": {
        "columns": 5,
        "rows": 5
       }
      },
      "text/html": [
       "<div>\n",
       "<style scoped>\n",
       "    .dataframe tbody tr th:only-of-type {\n",
       "        vertical-align: middle;\n",
       "    }\n",
       "\n",
       "    .dataframe tbody tr th {\n",
       "        vertical-align: top;\n",
       "    }\n",
       "\n",
       "    .dataframe thead th {\n",
       "        text-align: right;\n",
       "    }\n",
       "</style>\n",
       "<table border=\"1\" class=\"dataframe\">\n",
       "  <thead>\n",
       "    <tr style=\"text-align: right;\">\n",
       "      <th></th>\n",
       "      <th>iso2</th>\n",
       "      <th>iso3</th>\n",
       "      <th>iso_num</th>\n",
       "      <th>country</th>\n",
       "      <th>country_common</th>\n",
       "    </tr>\n",
       "  </thead>\n",
       "  <tbody>\n",
       "    <tr>\n",
       "      <th>0</th>\n",
       "      <td>AF</td>\n",
       "      <td>AFG</td>\n",
       "      <td>4</td>\n",
       "      <td>Afghanistan</td>\n",
       "      <td>Afghanistan</td>\n",
       "    </tr>\n",
       "    <tr>\n",
       "      <th>1</th>\n",
       "      <td>AX</td>\n",
       "      <td>ALA</td>\n",
       "      <td>248</td>\n",
       "      <td>Aland Islands</td>\n",
       "      <td>Aland Islands</td>\n",
       "    </tr>\n",
       "    <tr>\n",
       "      <th>2</th>\n",
       "      <td>AL</td>\n",
       "      <td>ALB</td>\n",
       "      <td>8</td>\n",
       "      <td>Albania</td>\n",
       "      <td>Albania</td>\n",
       "    </tr>\n",
       "    <tr>\n",
       "      <th>3</th>\n",
       "      <td>DZ</td>\n",
       "      <td>DZA</td>\n",
       "      <td>12</td>\n",
       "      <td>Algeria</td>\n",
       "      <td>Algeria</td>\n",
       "    </tr>\n",
       "    <tr>\n",
       "      <th>4</th>\n",
       "      <td>AS</td>\n",
       "      <td>ASM</td>\n",
       "      <td>16</td>\n",
       "      <td>American Samoa</td>\n",
       "      <td>Samoa</td>\n",
       "    </tr>\n",
       "  </tbody>\n",
       "</table>\n",
       "</div>"
      ],
      "text/plain": [
       "  iso2 iso3  iso_num         country country_common\n",
       "0   AF  AFG        4     Afghanistan    Afghanistan\n",
       "1   AX  ALA      248   Aland Islands  Aland Islands\n",
       "2   AL  ALB        8         Albania        Albania\n",
       "3   DZ  DZA       12         Algeria        Algeria\n",
       "4   AS  ASM       16  American Samoa          Samoa"
      ]
     },
     "execution_count": 12,
     "metadata": {},
     "output_type": "execute_result"
    }
   ],
   "source": [
    "country_code = pd.read_csv(RAW_DATA_DIR / \"iso-country-codes.csv\")\n",
    "country_code.head()"
   ]
  },
  {
   "cell_type": "markdown",
   "id": "ac6a381d",
   "metadata": {},
   "source": [
    "Remove some row that the GDP data is not available. After inpect each country has only 1 row."
   ]
  },
  {
   "cell_type": "code",
   "execution_count": 13,
   "id": "bf25eb7c",
   "metadata": {},
   "outputs": [],
   "source": [
    "preprocessed_data = preprocessed_data[~preprocessed_data[\"company_location\"].isin([\"GI\", \"JE\", \"BM\"])]\n",
    "preprocessed_data = preprocessed_data[~preprocessed_data[\"employee_residence\"].isin([\"GI\", \"JE\", \"BM\"])]"
   ]
  },
  {
   "cell_type": "markdown",
   "id": "4ccbe994",
   "metadata": {},
   "source": [
    "Replace the alpha-2 code with the country name."
   ]
  },
  {
   "cell_type": "code",
   "execution_count": 14,
   "id": "848c6218",
   "metadata": {},
   "outputs": [],
   "source": [
    "country_map = country_code.set_index(\"iso2\").to_dict()[\"country_common\"]\n",
    "preprocessed_data[\"company_location\"] = preprocessed_data[\"company_location\"].replace(country_map)\n",
    "preprocessed_data[\"employee_residence\"] = preprocessed_data[\"employee_residence\"].replace(\n",
    "    country_map\n",
    ")"
   ]
  },
  {
   "cell_type": "markdown",
   "id": "6657c475",
   "metadata": {},
   "source": [
    "Next we will use the `gdp` dataset from the IMF to get the GDP data. We will use the `country` column to merge the two datasets."
   ]
  },
  {
   "cell_type": "code",
   "execution_count": 15,
   "id": "7361f8fc",
   "metadata": {},
   "outputs": [],
   "source": [
    "gdp = pd.read_csv(RAW_DATA_DIR / \"imf-world-gdp.csv\")\n",
    "gdp.replace(\"no data\", float(\"nan\"), inplace=True)\n",
    "gdp.set_index(\"GDP (Billions USD)\", inplace=True)"
   ]
  },
  {
   "cell_type": "code",
   "execution_count": 16,
   "id": "6e9ca0e3",
   "metadata": {},
   "outputs": [],
   "source": [
    "preprocessed_data.loc[:,\"work_year\"] = preprocessed_data[\"work_year\"].astype(int)\n",
    "preprocessed_data.loc[:, \"company_location\"] = preprocessed_data.apply(\n",
    "    lambda x: gdp.loc[x[\"company_location\"], str(x[\"work_year\"])],\n",
    "    axis=1,\n",
    ")\n",
    "preprocessed_data.loc[:, \"employee_residence\"] = preprocessed_data.apply(\n",
    "    lambda x: gdp.loc[x[\"employee_residence\"], str(x[\"work_year\"])],\n",
    "    axis=1,\n",
    ")"
   ]
  },
  {
   "cell_type": "code",
   "execution_count": 18,
   "id": "87eea204",
   "metadata": {},
   "outputs": [
    {
     "data": {
      "application/vnd.microsoft.datawrangler.viewer.v0+json": {
       "columns": [
        {
         "name": "index",
         "rawType": "int64",
         "type": "integer"
        },
        {
         "name": "work_year",
         "rawType": "int64",
         "type": "integer"
        },
        {
         "name": "experience_level",
         "rawType": "int64",
         "type": "integer"
        },
        {
         "name": "salary_in_usd",
         "rawType": "int64",
         "type": "integer"
        },
        {
         "name": "employee_residence",
         "rawType": "object",
         "type": "string"
        },
        {
         "name": "remote_ratio",
         "rawType": "int64",
         "type": "integer"
        },
        {
         "name": "company_location",
         "rawType": "object",
         "type": "string"
        },
        {
         "name": "company_size",
         "rawType": "int64",
         "type": "integer"
        },
        {
         "name": "employment_type_FL",
         "rawType": "int64",
         "type": "integer"
        },
        {
         "name": "employment_type_FT",
         "rawType": "int64",
         "type": "integer"
        },
        {
         "name": "employment_type_PT",
         "rawType": "int64",
         "type": "integer"
        },
        {
         "name": "job_title_account",
         "rawType": "float64",
         "type": "float"
        },
        {
         "name": "job_title_actuarial",
         "rawType": "float64",
         "type": "float"
        },
        {
         "name": "job_title_admin",
         "rawType": "float64",
         "type": "float"
        },
        {
         "name": "job_title_administrator",
         "rawType": "float64",
         "type": "float"
        },
        {
         "name": "job_title_ai",
         "rawType": "float64",
         "type": "float"
        },
        {
         "name": "job_title_algorithm",
         "rawType": "float64",
         "type": "float"
        },
        {
         "name": "job_title_analista",
         "rawType": "float64",
         "type": "float"
        },
        {
         "name": "job_title_analyst",
         "rawType": "float64",
         "type": "float"
        },
        {
         "name": "job_title_analytics",
         "rawType": "float64",
         "type": "float"
        },
        {
         "name": "job_title_and",
         "rawType": "float64",
         "type": "float"
        },
        {
         "name": "job_title_application",
         "rawType": "float64",
         "type": "float"
        },
        {
         "name": "job_title_applied",
         "rawType": "float64",
         "type": "float"
        },
        {
         "name": "job_title_architect",
         "rawType": "float64",
         "type": "float"
        },
        {
         "name": "job_title_artificial",
         "rawType": "float64",
         "type": "float"
        },
        {
         "name": "job_title_assistant",
         "rawType": "float64",
         "type": "float"
        },
        {
         "name": "job_title_associate",
         "rawType": "float64",
         "type": "float"
        },
        {
         "name": "job_title_autonomous",
         "rawType": "float64",
         "type": "float"
        },
        {
         "name": "job_title_aws",
         "rawType": "float64",
         "type": "float"
        },
        {
         "name": "job_title_azure",
         "rawType": "float64",
         "type": "float"
        },
        {
         "name": "job_title_backend",
         "rawType": "float64",
         "type": "float"
        },
        {
         "name": "job_title_bear",
         "rawType": "float64",
         "type": "float"
        },
        {
         "name": "job_title_bi",
         "rawType": "float64",
         "type": "float"
        },
        {
         "name": "job_title_big",
         "rawType": "float64",
         "type": "float"
        },
        {
         "name": "job_title_bioinformatician",
         "rawType": "float64",
         "type": "float"
        },
        {
         "name": "job_title_bioinformatics",
         "rawType": "float64",
         "type": "float"
        },
        {
         "name": "job_title_biologist",
         "rawType": "float64",
         "type": "float"
        },
        {
         "name": "job_title_business",
         "rawType": "float64",
         "type": "float"
        },
        {
         "name": "job_title_chatbot",
         "rawType": "float64",
         "type": "float"
        },
        {
         "name": "job_title_clinical",
         "rawType": "float64",
         "type": "float"
        },
        {
         "name": "job_title_cloud",
         "rawType": "float64",
         "type": "float"
        },
        {
         "name": "job_title_compliance",
         "rawType": "float64",
         "type": "float"
        },
        {
         "name": "job_title_computational",
         "rawType": "float64",
         "type": "float"
        },
        {
         "name": "job_title_computer",
         "rawType": "float64",
         "type": "float"
        },
        {
         "name": "job_title_consultant",
         "rawType": "float64",
         "type": "float"
        },
        {
         "name": "job_title_controls",
         "rawType": "float64",
         "type": "float"
        },
        {
         "name": "job_title_coordinator",
         "rawType": "float64",
         "type": "float"
        },
        {
         "name": "job_title_crm",
         "rawType": "float64",
         "type": "float"
        },
        {
         "name": "job_title_data",
         "rawType": "float64",
         "type": "float"
        },
        {
         "name": "job_title_database",
         "rawType": "float64",
         "type": "float"
        },
        {
         "name": "job_title_databricks",
         "rawType": "float64",
         "type": "float"
        },
        {
         "name": "job_title_dataops",
         "rawType": "float64",
         "type": "float"
        },
        {
         "name": "job_title_datos",
         "rawType": "float64",
         "type": "float"
        },
        {
         "name": "job_title_de",
         "rawType": "float64",
         "type": "float"
        },
        {
         "name": "job_title_decision",
         "rawType": "float64",
         "type": "float"
        },
        {
         "name": "job_title_deep",
         "rawType": "float64",
         "type": "float"
        },
        {
         "name": "job_title_delivery",
         "rawType": "float64",
         "type": "float"
        },
        {
         "name": "job_title_designer",
         "rawType": "float64",
         "type": "float"
        },
        {
         "name": "job_title_developer",
         "rawType": "float64",
         "type": "float"
        },
        {
         "name": "job_title_development",
         "rawType": "float64",
         "type": "float"
        },
        {
         "name": "job_title_devops",
         "rawType": "float64",
         "type": "float"
        },
        {
         "name": "job_title_director",
         "rawType": "float64",
         "type": "float"
        },
        {
         "name": "job_title_elasticsearch",
         "rawType": "float64",
         "type": "float"
        },
        {
         "name": "job_title_encounter",
         "rawType": "float64",
         "type": "float"
        },
        {
         "name": "job_title_engineer",
         "rawType": "float64",
         "type": "float"
        },
        {
         "name": "job_title_engineering",
         "rawType": "float64",
         "type": "float"
        },
        {
         "name": "job_title_enterprise",
         "rawType": "float64",
         "type": "float"
        },
        {
         "name": "job_title_etl",
         "rawType": "float64",
         "type": "float"
        },
        {
         "name": "job_title_executive",
         "rawType": "float64",
         "type": "float"
        },
        {
         "name": "job_title_fellow",
         "rawType": "float64",
         "type": "float"
        },
        {
         "name": "job_title_finance",
         "rawType": "float64",
         "type": "float"
        },
        {
         "name": "job_title_financial",
         "rawType": "float64",
         "type": "float"
        },
        {
         "name": "job_title_frontend",
         "rawType": "float64",
         "type": "float"
        },
        {
         "name": "job_title_full",
         "rawType": "float64",
         "type": "float"
        },
        {
         "name": "job_title_fullstack",
         "rawType": "float64",
         "type": "float"
        },
        {
         "name": "job_title_governance",
         "rawType": "float64",
         "type": "float"
        },
        {
         "name": "job_title_head",
         "rawType": "float64",
         "type": "float"
        },
        {
         "name": "job_title_infrastructure",
         "rawType": "float64",
         "type": "float"
        },
        {
         "name": "job_title_insight",
         "rawType": "float64",
         "type": "float"
        },
        {
         "name": "job_title_insights",
         "rawType": "float64",
         "type": "float"
        },
        {
         "name": "job_title_integration",
         "rawType": "float64",
         "type": "float"
        },
        {
         "name": "job_title_integrator",
         "rawType": "float64",
         "type": "float"
        },
        {
         "name": "job_title_integrity",
         "rawType": "float64",
         "type": "float"
        },
        {
         "name": "job_title_intelligence",
         "rawType": "float64",
         "type": "float"
        },
        {
         "name": "job_title_lead",
         "rawType": "float64",
         "type": "float"
        },
        {
         "name": "job_title_learning",
         "rawType": "float64",
         "type": "float"
        },
        {
         "name": "job_title_machine",
         "rawType": "float64",
         "type": "float"
        },
        {
         "name": "job_title_management",
         "rawType": "float64",
         "type": "float"
        },
        {
         "name": "job_title_manager",
         "rawType": "float64",
         "type": "float"
        },
        {
         "name": "job_title_marketing",
         "rawType": "float64",
         "type": "float"
        },
        {
         "name": "job_title_master",
         "rawType": "float64",
         "type": "float"
        },
        {
         "name": "job_title_member",
         "rawType": "float64",
         "type": "float"
        },
        {
         "name": "job_title_ml",
         "rawType": "float64",
         "type": "float"
        },
        {
         "name": "job_title_mlops",
         "rawType": "float64",
         "type": "float"
        },
        {
         "name": "job_title_model",
         "rawType": "float64",
         "type": "float"
        },
        {
         "name": "job_title_modeler",
         "rawType": "float64",
         "type": "float"
        },
        {
         "name": "job_title_nlp",
         "rawType": "float64",
         "type": "float"
        },
        {
         "name": "job_title_of",
         "rawType": "float64",
         "type": "float"
        },
        {
         "name": "job_title_operations",
         "rawType": "float64",
         "type": "float"
        },
        {
         "name": "job_title_operator",
         "rawType": "float64",
         "type": "float"
        },
        {
         "name": "job_title_owner",
         "rawType": "float64",
         "type": "float"
        },
        {
         "name": "job_title_people",
         "rawType": "float64",
         "type": "float"
        },
        {
         "name": "job_title_performance",
         "rawType": "float64",
         "type": "float"
        },
        {
         "name": "job_title_pipeline",
         "rawType": "float64",
         "type": "float"
        },
        {
         "name": "job_title_platform",
         "rawType": "float64",
         "type": "float"
        },
        {
         "name": "job_title_postdoctoral",
         "rawType": "float64",
         "type": "float"
        },
        {
         "name": "job_title_power",
         "rawType": "float64",
         "type": "float"
        },
        {
         "name": "job_title_pricing",
         "rawType": "float64",
         "type": "float"
        },
        {
         "name": "job_title_principal",
         "rawType": "float64",
         "type": "float"
        },
        {
         "name": "job_title_product",
         "rawType": "float64",
         "type": "float"
        },
        {
         "name": "job_title_professional",
         "rawType": "float64",
         "type": "float"
        },
        {
         "name": "job_title_programmer",
         "rawType": "float64",
         "type": "float"
        },
        {
         "name": "job_title_prompt",
         "rawType": "float64",
         "type": "float"
        },
        {
         "name": "job_title_python",
         "rawType": "float64",
         "type": "float"
        },
        {
         "name": "job_title_qa",
         "rawType": "float64",
         "type": "float"
        },
        {
         "name": "job_title_quality",
         "rawType": "float64",
         "type": "float"
        },
        {
         "name": "job_title_quantitative",
         "rawType": "float64",
         "type": "float"
        },
        {
         "name": "job_title_reliability",
         "rawType": "float64",
         "type": "float"
        },
        {
         "name": "job_title_reporter",
         "rawType": "float64",
         "type": "float"
        },
        {
         "name": "job_title_reporting",
         "rawType": "float64",
         "type": "float"
        },
        {
         "name": "job_title_representative",
         "rawType": "float64",
         "type": "float"
        },
        {
         "name": "job_title_research",
         "rawType": "float64",
         "type": "float"
        },
        {
         "name": "job_title_researcher",
         "rawType": "float64",
         "type": "float"
        },
        {
         "name": "job_title_risk",
         "rawType": "float64",
         "type": "float"
        },
        {
         "name": "job_title_robotics",
         "rawType": "float64",
         "type": "float"
        },
        {
         "name": "job_title_sales",
         "rawType": "float64",
         "type": "float"
        },
        {
         "name": "job_title_sas",
         "rawType": "float64",
         "type": "float"
        },
        {
         "name": "job_title_scala",
         "rawType": "float64",
         "type": "float"
        },
        {
         "name": "job_title_science",
         "rawType": "float64",
         "type": "float"
        },
        {
         "name": "job_title_scientist",
         "rawType": "float64",
         "type": "float"
        },
        {
         "name": "job_title_security",
         "rawType": "float64",
         "type": "float"
        },
        {
         "name": "job_title_site",
         "rawType": "float64",
         "type": "float"
        },
        {
         "name": "job_title_software",
         "rawType": "float64",
         "type": "float"
        },
        {
         "name": "job_title_solution",
         "rawType": "float64",
         "type": "float"
        },
        {
         "name": "job_title_solutions",
         "rawType": "float64",
         "type": "float"
        },
        {
         "name": "job_title_spark",
         "rawType": "float64",
         "type": "float"
        },
        {
         "name": "job_title_specialist",
         "rawType": "float64",
         "type": "float"
        },
        {
         "name": "job_title_stack",
         "rawType": "float64",
         "type": "float"
        },
        {
         "name": "job_title_staff",
         "rawType": "float64",
         "type": "float"
        },
        {
         "name": "job_title_stage",
         "rawType": "float64",
         "type": "float"
        },
        {
         "name": "job_title_statistical",
         "rawType": "float64",
         "type": "float"
        },
        {
         "name": "job_title_statistician",
         "rawType": "float64",
         "type": "float"
        },
        {
         "name": "job_title_strategist",
         "rawType": "float64",
         "type": "float"
        },
        {
         "name": "job_title_strategy",
         "rawType": "float64",
         "type": "float"
        },
        {
         "name": "job_title_system",
         "rawType": "float64",
         "type": "float"
        },
        {
         "name": "job_title_systems",
         "rawType": "float64",
         "type": "float"
        },
        {
         "name": "job_title_team",
         "rawType": "float64",
         "type": "float"
        },
        {
         "name": "job_title_tech",
         "rawType": "float64",
         "type": "float"
        },
        {
         "name": "job_title_technical",
         "rawType": "float64",
         "type": "float"
        },
        {
         "name": "job_title_technician",
         "rawType": "float64",
         "type": "float"
        },
        {
         "name": "job_title_technology",
         "rawType": "float64",
         "type": "float"
        },
        {
         "name": "job_title_vehicle",
         "rawType": "float64",
         "type": "float"
        },
        {
         "name": "job_title_vision",
         "rawType": "float64",
         "type": "float"
        },
        {
         "name": "job_title_visualization",
         "rawType": "float64",
         "type": "float"
        },
        {
         "name": "job_title_writer",
         "rawType": "float64",
         "type": "float"
        }
       ],
       "ref": "f2119082-cdb3-425c-9448-ccb05745d341",
       "rows": [
        [
         "0",
         "2025",
         "3",
         "170000",
         "30507.217",
         "0",
         "30507.217",
         "2",
         "0",
         "1",
         "0",
         "0.0",
         "0.0",
         "0.0",
         "0.0",
         "0.0",
         "0.0",
         "0.0",
         "0.0",
         "0.0",
         "0.0",
         "0.0",
         "0.0",
         "0.0",
         "0.0",
         "0.0",
         "0.0",
         "0.0",
         "0.0",
         "0.0",
         "0.0",
         "0.0",
         "0.0",
         "0.0",
         "0.0",
         "0.0",
         "0.0",
         "0.0",
         "0.0",
         "0.0",
         "0.0",
         "0.0",
         "0.0",
         "0.0",
         "0.0",
         "0.0",
         "0.0",
         "0.0",
         "0.19163533230562757",
         "0.0",
         "0.0",
         "0.0",
         "0.0",
         "0.0",
         "0.0",
         "0.0",
         "0.0",
         "0.0",
         "0.0",
         "0.0",
         "0.0",
         "0.0",
         "0.0",
         "0.0",
         "0.0",
         "0.0",
         "0.0",
         "0.0",
         "0.0",
         "0.0",
         "0.0",
         "0.0",
         "0.0",
         "0.0",
         "0.0",
         "0.0",
         "0.0",
         "0.0",
         "0.0",
         "0.0",
         "0.0",
         "0.0",
         "0.0",
         "0.0",
         "0.0",
         "0.0",
         "0.0",
         "0.0",
         "0.0",
         "0.0",
         "0.0",
         "0.0",
         "0.0",
         "0.0",
         "0.0",
         "0.0",
         "0.0",
         "0.0",
         "0.0",
         "0.0",
         "0.826953250626024",
         "0.0",
         "0.0",
         "0.0",
         "0.0",
         "0.0",
         "0.0",
         "0.0",
         "0.0",
         "0.528605921922148",
         "0.0",
         "0.0",
         "0.0",
         "0.0",
         "0.0",
         "0.0",
         "0.0",
         "0.0",
         "0.0",
         "0.0",
         "0.0",
         "0.0",
         "0.0",
         "0.0",
         "0.0",
         "0.0",
         "0.0",
         "0.0",
         "0.0",
         "0.0",
         "0.0",
         "0.0",
         "0.0",
         "0.0",
         "0.0",
         "0.0",
         "0.0",
         "0.0",
         "0.0",
         "0.0",
         "0.0",
         "0.0",
         "0.0",
         "0.0",
         "0.0",
         "0.0",
         "0.0",
         "0.0",
         "0.0",
         "0.0",
         "0.0",
         "0.0",
         "0.0",
         "0.0",
         "0.0"
        ],
        [
         "1",
         "2025",
         "3",
         "110000",
         "30507.217",
         "0",
         "30507.217",
         "2",
         "0",
         "1",
         "0",
         "0.0",
         "0.0",
         "0.0",
         "0.0",
         "0.0",
         "0.0",
         "0.0",
         "0.0",
         "0.0",
         "0.0",
         "0.0",
         "0.0",
         "0.0",
         "0.0",
         "0.0",
         "0.0",
         "0.0",
         "0.0",
         "0.0",
         "0.0",
         "0.0",
         "0.0",
         "0.0",
         "0.0",
         "0.0",
         "0.0",
         "0.0",
         "0.0",
         "0.0",
         "0.0",
         "0.0",
         "0.0",
         "0.0",
         "0.0",
         "0.0",
         "0.0",
         "0.0",
         "0.19163533230562757",
         "0.0",
         "0.0",
         "0.0",
         "0.0",
         "0.0",
         "0.0",
         "0.0",
         "0.0",
         "0.0",
         "0.0",
         "0.0",
         "0.0",
         "0.0",
         "0.0",
         "0.0",
         "0.0",
         "0.0",
         "0.0",
         "0.0",
         "0.0",
         "0.0",
         "0.0",
         "0.0",
         "0.0",
         "0.0",
         "0.0",
         "0.0",
         "0.0",
         "0.0",
         "0.0",
         "0.0",
         "0.0",
         "0.0",
         "0.0",
         "0.0",
         "0.0",
         "0.0",
         "0.0",
         "0.0",
         "0.0",
         "0.0",
         "0.0",
         "0.0",
         "0.0",
         "0.0",
         "0.0",
         "0.0",
         "0.0",
         "0.0",
         "0.0",
         "0.0",
         "0.826953250626024",
         "0.0",
         "0.0",
         "0.0",
         "0.0",
         "0.0",
         "0.0",
         "0.0",
         "0.0",
         "0.528605921922148",
         "0.0",
         "0.0",
         "0.0",
         "0.0",
         "0.0",
         "0.0",
         "0.0",
         "0.0",
         "0.0",
         "0.0",
         "0.0",
         "0.0",
         "0.0",
         "0.0",
         "0.0",
         "0.0",
         "0.0",
         "0.0",
         "0.0",
         "0.0",
         "0.0",
         "0.0",
         "0.0",
         "0.0",
         "0.0",
         "0.0",
         "0.0",
         "0.0",
         "0.0",
         "0.0",
         "0.0",
         "0.0",
         "0.0",
         "0.0",
         "0.0",
         "0.0",
         "0.0",
         "0.0",
         "0.0",
         "0.0",
         "0.0",
         "0.0",
         "0.0",
         "0.0",
         "0.0"
        ],
        [
         "2",
         "2025",
         "3",
         "170000",
         "30507.217",
         "0",
         "30507.217",
         "2",
         "0",
         "1",
         "0",
         "0.0",
         "0.0",
         "0.0",
         "0.0",
         "0.0",
         "0.0",
         "0.0",
         "0.0",
         "0.0",
         "0.0",
         "0.0",
         "0.0",
         "0.0",
         "0.0",
         "0.0",
         "0.0",
         "0.0",
         "0.0",
         "0.0",
         "0.0",
         "0.0",
         "0.0",
         "0.0",
         "0.0",
         "0.0",
         "0.0",
         "0.0",
         "0.0",
         "0.0",
         "0.0",
         "0.0",
         "0.0",
         "0.0",
         "0.0",
         "0.0",
         "0.0",
         "0.0",
         "0.19163533230562757",
         "0.0",
         "0.0",
         "0.0",
         "0.0",
         "0.0",
         "0.0",
         "0.0",
         "0.0",
         "0.0",
         "0.0",
         "0.0",
         "0.0",
         "0.0",
         "0.0",
         "0.0",
         "0.0",
         "0.0",
         "0.0",
         "0.0",
         "0.0",
         "0.0",
         "0.0",
         "0.0",
         "0.0",
         "0.0",
         "0.0",
         "0.0",
         "0.0",
         "0.0",
         "0.0",
         "0.0",
         "0.0",
         "0.0",
         "0.0",
         "0.0",
         "0.0",
         "0.0",
         "0.0",
         "0.0",
         "0.0",
         "0.0",
         "0.0",
         "0.0",
         "0.0",
         "0.0",
         "0.0",
         "0.0",
         "0.0",
         "0.0",
         "0.0",
         "0.0",
         "0.826953250626024",
         "0.0",
         "0.0",
         "0.0",
         "0.0",
         "0.0",
         "0.0",
         "0.0",
         "0.0",
         "0.528605921922148",
         "0.0",
         "0.0",
         "0.0",
         "0.0",
         "0.0",
         "0.0",
         "0.0",
         "0.0",
         "0.0",
         "0.0",
         "0.0",
         "0.0",
         "0.0",
         "0.0",
         "0.0",
         "0.0",
         "0.0",
         "0.0",
         "0.0",
         "0.0",
         "0.0",
         "0.0",
         "0.0",
         "0.0",
         "0.0",
         "0.0",
         "0.0",
         "0.0",
         "0.0",
         "0.0",
         "0.0",
         "0.0",
         "0.0",
         "0.0",
         "0.0",
         "0.0",
         "0.0",
         "0.0",
         "0.0",
         "0.0",
         "0.0",
         "0.0",
         "0.0",
         "0.0",
         "0.0"
        ],
        [
         "3",
         "2025",
         "3",
         "110000",
         "30507.217",
         "0",
         "30507.217",
         "2",
         "0",
         "1",
         "0",
         "0.0",
         "0.0",
         "0.0",
         "0.0",
         "0.0",
         "0.0",
         "0.0",
         "0.0",
         "0.0",
         "0.0",
         "0.0",
         "0.0",
         "0.0",
         "0.0",
         "0.0",
         "0.0",
         "0.0",
         "0.0",
         "0.0",
         "0.0",
         "0.0",
         "0.0",
         "0.0",
         "0.0",
         "0.0",
         "0.0",
         "0.0",
         "0.0",
         "0.0",
         "0.0",
         "0.0",
         "0.0",
         "0.0",
         "0.0",
         "0.0",
         "0.0",
         "0.0",
         "0.19163533230562757",
         "0.0",
         "0.0",
         "0.0",
         "0.0",
         "0.0",
         "0.0",
         "0.0",
         "0.0",
         "0.0",
         "0.0",
         "0.0",
         "0.0",
         "0.0",
         "0.0",
         "0.0",
         "0.0",
         "0.0",
         "0.0",
         "0.0",
         "0.0",
         "0.0",
         "0.0",
         "0.0",
         "0.0",
         "0.0",
         "0.0",
         "0.0",
         "0.0",
         "0.0",
         "0.0",
         "0.0",
         "0.0",
         "0.0",
         "0.0",
         "0.0",
         "0.0",
         "0.0",
         "0.0",
         "0.0",
         "0.0",
         "0.0",
         "0.0",
         "0.0",
         "0.0",
         "0.0",
         "0.0",
         "0.0",
         "0.0",
         "0.0",
         "0.0",
         "0.0",
         "0.826953250626024",
         "0.0",
         "0.0",
         "0.0",
         "0.0",
         "0.0",
         "0.0",
         "0.0",
         "0.0",
         "0.528605921922148",
         "0.0",
         "0.0",
         "0.0",
         "0.0",
         "0.0",
         "0.0",
         "0.0",
         "0.0",
         "0.0",
         "0.0",
         "0.0",
         "0.0",
         "0.0",
         "0.0",
         "0.0",
         "0.0",
         "0.0",
         "0.0",
         "0.0",
         "0.0",
         "0.0",
         "0.0",
         "0.0",
         "0.0",
         "0.0",
         "0.0",
         "0.0",
         "0.0",
         "0.0",
         "0.0",
         "0.0",
         "0.0",
         "0.0",
         "0.0",
         "0.0",
         "0.0",
         "0.0",
         "0.0",
         "0.0",
         "0.0",
         "0.0",
         "0.0",
         "0.0",
         "0.0",
         "0.0"
        ],
        [
         "4",
         "2025",
         "3",
         "143000",
         "30507.217",
         "0",
         "30507.217",
         "2",
         "0",
         "1",
         "0",
         "0.0",
         "0.0",
         "0.0",
         "0.0",
         "0.0",
         "0.0",
         "0.0",
         "0.0",
         "0.0",
         "0.0",
         "0.0",
         "0.0",
         "0.0",
         "0.0",
         "0.0",
         "0.0",
         "0.0",
         "0.0",
         "0.0",
         "0.0",
         "0.0",
         "0.0",
         "0.0",
         "0.0",
         "0.0",
         "0.0",
         "0.0",
         "0.0",
         "0.0",
         "0.0",
         "0.0",
         "0.0",
         "0.0",
         "0.0",
         "0.0",
         "0.0",
         "0.0",
         "0.0",
         "0.0",
         "0.0",
         "0.0",
         "0.0",
         "0.0",
         "0.0",
         "0.0",
         "0.0",
         "0.0",
         "0.0",
         "0.0",
         "0.0",
         "0.0",
         "0.0",
         "0.0",
         "1.0",
         "0.0",
         "0.0",
         "0.0",
         "0.0",
         "0.0",
         "0.0",
         "0.0",
         "0.0",
         "0.0",
         "0.0",
         "0.0",
         "0.0",
         "0.0",
         "0.0",
         "0.0",
         "0.0",
         "0.0",
         "0.0",
         "0.0",
         "0.0",
         "0.0",
         "0.0",
         "0.0",
         "0.0",
         "0.0",
         "0.0",
         "0.0",
         "0.0",
         "0.0",
         "0.0",
         "0.0",
         "0.0",
         "0.0",
         "0.0",
         "0.0",
         "0.0",
         "0.0",
         "0.0",
         "0.0",
         "0.0",
         "0.0",
         "0.0",
         "0.0",
         "0.0",
         "0.0",
         "0.0",
         "0.0",
         "0.0",
         "0.0",
         "0.0",
         "0.0",
         "0.0",
         "0.0",
         "0.0",
         "0.0",
         "0.0",
         "0.0",
         "0.0",
         "0.0",
         "0.0",
         "0.0",
         "0.0",
         "0.0",
         "0.0",
         "0.0",
         "0.0",
         "0.0",
         "0.0",
         "0.0",
         "0.0",
         "0.0",
         "0.0",
         "0.0",
         "0.0",
         "0.0",
         "0.0",
         "0.0",
         "0.0",
         "0.0",
         "0.0",
         "0.0",
         "0.0",
         "0.0",
         "0.0",
         "0.0",
         "0.0",
         "0.0",
         "0.0",
         "0.0",
         "0.0"
        ]
       ],
       "shape": {
        "columns": 154,
        "rows": 5
       }
      },
      "text/html": [
       "<div>\n",
       "<style scoped>\n",
       "    .dataframe tbody tr th:only-of-type {\n",
       "        vertical-align: middle;\n",
       "    }\n",
       "\n",
       "    .dataframe tbody tr th {\n",
       "        vertical-align: top;\n",
       "    }\n",
       "\n",
       "    .dataframe thead th {\n",
       "        text-align: right;\n",
       "    }\n",
       "</style>\n",
       "<table border=\"1\" class=\"dataframe\">\n",
       "  <thead>\n",
       "    <tr style=\"text-align: right;\">\n",
       "      <th></th>\n",
       "      <th>work_year</th>\n",
       "      <th>experience_level</th>\n",
       "      <th>salary_in_usd</th>\n",
       "      <th>employee_residence</th>\n",
       "      <th>remote_ratio</th>\n",
       "      <th>company_location</th>\n",
       "      <th>company_size</th>\n",
       "      <th>employment_type_FL</th>\n",
       "      <th>employment_type_FT</th>\n",
       "      <th>employment_type_PT</th>\n",
       "      <th>...</th>\n",
       "      <th>job_title_systems</th>\n",
       "      <th>job_title_team</th>\n",
       "      <th>job_title_tech</th>\n",
       "      <th>job_title_technical</th>\n",
       "      <th>job_title_technician</th>\n",
       "      <th>job_title_technology</th>\n",
       "      <th>job_title_vehicle</th>\n",
       "      <th>job_title_vision</th>\n",
       "      <th>job_title_visualization</th>\n",
       "      <th>job_title_writer</th>\n",
       "    </tr>\n",
       "  </thead>\n",
       "  <tbody>\n",
       "    <tr>\n",
       "      <th>0</th>\n",
       "      <td>2025</td>\n",
       "      <td>3</td>\n",
       "      <td>170000</td>\n",
       "      <td>30507.217</td>\n",
       "      <td>0</td>\n",
       "      <td>30507.217</td>\n",
       "      <td>2</td>\n",
       "      <td>0</td>\n",
       "      <td>1</td>\n",
       "      <td>0</td>\n",
       "      <td>...</td>\n",
       "      <td>0.0</td>\n",
       "      <td>0.0</td>\n",
       "      <td>0.0</td>\n",
       "      <td>0.0</td>\n",
       "      <td>0.0</td>\n",
       "      <td>0.0</td>\n",
       "      <td>0.0</td>\n",
       "      <td>0.0</td>\n",
       "      <td>0.0</td>\n",
       "      <td>0.0</td>\n",
       "    </tr>\n",
       "    <tr>\n",
       "      <th>1</th>\n",
       "      <td>2025</td>\n",
       "      <td>3</td>\n",
       "      <td>110000</td>\n",
       "      <td>30507.217</td>\n",
       "      <td>0</td>\n",
       "      <td>30507.217</td>\n",
       "      <td>2</td>\n",
       "      <td>0</td>\n",
       "      <td>1</td>\n",
       "      <td>0</td>\n",
       "      <td>...</td>\n",
       "      <td>0.0</td>\n",
       "      <td>0.0</td>\n",
       "      <td>0.0</td>\n",
       "      <td>0.0</td>\n",
       "      <td>0.0</td>\n",
       "      <td>0.0</td>\n",
       "      <td>0.0</td>\n",
       "      <td>0.0</td>\n",
       "      <td>0.0</td>\n",
       "      <td>0.0</td>\n",
       "    </tr>\n",
       "    <tr>\n",
       "      <th>2</th>\n",
       "      <td>2025</td>\n",
       "      <td>3</td>\n",
       "      <td>170000</td>\n",
       "      <td>30507.217</td>\n",
       "      <td>0</td>\n",
       "      <td>30507.217</td>\n",
       "      <td>2</td>\n",
       "      <td>0</td>\n",
       "      <td>1</td>\n",
       "      <td>0</td>\n",
       "      <td>...</td>\n",
       "      <td>0.0</td>\n",
       "      <td>0.0</td>\n",
       "      <td>0.0</td>\n",
       "      <td>0.0</td>\n",
       "      <td>0.0</td>\n",
       "      <td>0.0</td>\n",
       "      <td>0.0</td>\n",
       "      <td>0.0</td>\n",
       "      <td>0.0</td>\n",
       "      <td>0.0</td>\n",
       "    </tr>\n",
       "    <tr>\n",
       "      <th>3</th>\n",
       "      <td>2025</td>\n",
       "      <td>3</td>\n",
       "      <td>110000</td>\n",
       "      <td>30507.217</td>\n",
       "      <td>0</td>\n",
       "      <td>30507.217</td>\n",
       "      <td>2</td>\n",
       "      <td>0</td>\n",
       "      <td>1</td>\n",
       "      <td>0</td>\n",
       "      <td>...</td>\n",
       "      <td>0.0</td>\n",
       "      <td>0.0</td>\n",
       "      <td>0.0</td>\n",
       "      <td>0.0</td>\n",
       "      <td>0.0</td>\n",
       "      <td>0.0</td>\n",
       "      <td>0.0</td>\n",
       "      <td>0.0</td>\n",
       "      <td>0.0</td>\n",
       "      <td>0.0</td>\n",
       "    </tr>\n",
       "    <tr>\n",
       "      <th>4</th>\n",
       "      <td>2025</td>\n",
       "      <td>3</td>\n",
       "      <td>143000</td>\n",
       "      <td>30507.217</td>\n",
       "      <td>0</td>\n",
       "      <td>30507.217</td>\n",
       "      <td>2</td>\n",
       "      <td>0</td>\n",
       "      <td>1</td>\n",
       "      <td>0</td>\n",
       "      <td>...</td>\n",
       "      <td>0.0</td>\n",
       "      <td>0.0</td>\n",
       "      <td>0.0</td>\n",
       "      <td>0.0</td>\n",
       "      <td>0.0</td>\n",
       "      <td>0.0</td>\n",
       "      <td>0.0</td>\n",
       "      <td>0.0</td>\n",
       "      <td>0.0</td>\n",
       "      <td>0.0</td>\n",
       "    </tr>\n",
       "  </tbody>\n",
       "</table>\n",
       "<p>5 rows × 154 columns</p>\n",
       "</div>"
      ],
      "text/plain": [
       "   work_year  experience_level  salary_in_usd employee_residence  \\\n",
       "0       2025                 3         170000          30507.217   \n",
       "1       2025                 3         110000          30507.217   \n",
       "2       2025                 3         170000          30507.217   \n",
       "3       2025                 3         110000          30507.217   \n",
       "4       2025                 3         143000          30507.217   \n",
       "\n",
       "   remote_ratio company_location  company_size  employment_type_FL  \\\n",
       "0             0        30507.217             2                   0   \n",
       "1             0        30507.217             2                   0   \n",
       "2             0        30507.217             2                   0   \n",
       "3             0        30507.217             2                   0   \n",
       "4             0        30507.217             2                   0   \n",
       "\n",
       "   employment_type_FT  employment_type_PT  ...  job_title_systems  \\\n",
       "0                   1                   0  ...                0.0   \n",
       "1                   1                   0  ...                0.0   \n",
       "2                   1                   0  ...                0.0   \n",
       "3                   1                   0  ...                0.0   \n",
       "4                   1                   0  ...                0.0   \n",
       "\n",
       "   job_title_team  job_title_tech  job_title_technical  job_title_technician  \\\n",
       "0             0.0             0.0                  0.0                   0.0   \n",
       "1             0.0             0.0                  0.0                   0.0   \n",
       "2             0.0             0.0                  0.0                   0.0   \n",
       "3             0.0             0.0                  0.0                   0.0   \n",
       "4             0.0             0.0                  0.0                   0.0   \n",
       "\n",
       "   job_title_technology  job_title_vehicle  job_title_vision  \\\n",
       "0                   0.0                0.0               0.0   \n",
       "1                   0.0                0.0               0.0   \n",
       "2                   0.0                0.0               0.0   \n",
       "3                   0.0                0.0               0.0   \n",
       "4                   0.0                0.0               0.0   \n",
       "\n",
       "   job_title_visualization  job_title_writer  \n",
       "0                      0.0               0.0  \n",
       "1                      0.0               0.0  \n",
       "2                      0.0               0.0  \n",
       "3                      0.0               0.0  \n",
       "4                      0.0               0.0  \n",
       "\n",
       "[5 rows x 154 columns]"
      ]
     },
     "execution_count": 18,
     "metadata": {},
     "output_type": "execute_result"
    }
   ],
   "source": [
    "preprocessed_data.head()"
   ]
  },
  {
   "cell_type": "markdown",
   "id": "7c6b0b20",
   "metadata": {},
   "source": [
    "Save the final dataset to a csv file."
   ]
  },
  {
   "cell_type": "code",
   "execution_count": 19,
   "id": "f77317d0",
   "metadata": {},
   "outputs": [],
   "source": [
    "from ds_salaries_predict.config import PROCESSED_DATA_DIR\n",
    "\n",
    "preprocessed_data.to_csv(PROCESSED_DATA_DIR / \"salaries_preprocessed.csv\", index=False)"
   ]
  }
 ],
 "metadata": {
  "kernelspec": {
   "display_name": ".venv",
   "language": "python",
   "name": "python3"
  },
  "language_info": {
   "codemirror_mode": {
    "name": "ipython",
    "version": 3
   },
   "file_extension": ".py",
   "mimetype": "text/x-python",
   "name": "python",
   "nbconvert_exporter": "python",
   "pygments_lexer": "ipython3",
   "version": "3.12.9"
  }
 },
 "nbformat": 4,
 "nbformat_minor": 5
}
